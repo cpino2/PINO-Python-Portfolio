{
 "cells": [
  {
   "cell_type": "markdown",
   "metadata": {
    "id": "K8dtVfO0BmMO"
   },
   "source": [
    "## Arrays in Python\n",
    "- **Concept:** An array is an ordered collection of items.\n",
    "- **In Python:** We use lists, which are dynamic arrays.\n",
    "- **Performance:** Direct indexing is O(1).\n",
    "- **Interview Tip:** Practice common array problems (e.g., reversing, rotating arrays) to build your pattern recognition."
   ]
  },
  {
   "cell_type": "code",
   "execution_count": 1,
   "metadata": {
    "colab": {
     "base_uri": "https://localhost:8080/"
    },
    "executionInfo": {
     "elapsed": 55,
     "status": "ok",
     "timestamp": 1740439508233,
     "user": {
      "displayName": "David Smiley",
      "userId": "04196970161563073370"
     },
     "user_tz": 300
    },
    "id": "6Pzda7X7Bp0s",
    "outputId": "5d1f45df-020b-4b0a-eca5-62e3e010eba1"
   },
   "outputs": [
    {
     "name": "stdout",
     "output_type": "stream",
     "text": [
      "Treat for Dec 1: Candy\n"
     ]
    }
   ],
   "source": [
    "# Creating a simple list (dynamic array) in Python\n",
    "advent_calendar = [\"Candy\", \"Cookie\", \"Chocolate\", \"Gum\", \"Lollipop\"]\n",
    "\n",
    "# Accessing an element using zero-based indexing\n",
    "print(\"Treat for Dec 1:\", advent_calendar[0])"
   ]
  },
  {
   "cell_type": "markdown",
   "metadata": {
    "id": "CWENDWYrDzH-"
   },
   "source": [
    "### Interview Example: Rotate an Array In-Place\n",
    "\n",
    "Many interview problems (like rotating arrays) assume you have a strong grasp of array basics—such as indexing, slicing, and in-place modifications. Knowing how to manipulate arrays efficiently is key to solving more advanced problems.\n",
    "\n",
    "#### **Approach: The Three-Reversal Method**\n",
    "A common efficient approach is to use the three-reversal method:\n",
    "\n",
    "- 1. Reverse the entire array.\n",
    "- 2. Reverse the first `k` elements.\n",
    "- 3. Reverse the remaining `n - k` elements.\n",
    "\n",
    "This approach rotates the array in-place and has a time complexity of O(n) with O(1) extra space.\n",
    "\n",
    "\n",
    "```\n",
    "# Example usage:\n",
    "nums = [1, 2, 3, 4, 5, 6, 7]\n",
    "rotate(nums, 3)\n",
    "print(\"Rotated Array:\", nums)\n",
    "```\n",
    "```\n",
    "# Expected output: [5, 6, 7, 1, 2, 3, 4]\n",
    "```\n"
   ]
  },
  {
   "cell_type": "markdown",
   "metadata": {
    "id": "Zly0mQTRFksN"
   },
   "source": [
    "**Step-by-Step Explanation**\n",
    "\n",
    "**1.   Normalize k:**\n",
    "- If k is larger than the length of the array, k %= n reduces it so that only the effective rotations are performed.\n",
    "\n",
    "**2.   Reverse the Entire Array:**\n",
    "- Reversing the whole array prepares it so that the elements we need at the front end up at the beginning when partially reversed again. The entire array is reversed using `nums[::-1]`.\n",
    "\n",
    "**3.   Reverse the First k Elements:**\n",
    "- The first k elements of the reversed array are reversed again. This puts the first k elements (which were originally at the end) into the correct order.\n",
    "\n",
    "**4.   Reverse the Remaining n - k Elements:**\n",
    "- This final reversal places the remaining elements in their proper order.\n",
    "\n",
    "**5.   Combine:**\n",
    "- The two segments are concatenated to form the final rotated array: `[5, 6, 7, 1, 2, 3, 4]`.\n",
    "\n",
    "\n"
   ]
  },
  {
   "cell_type": "code",
   "execution_count": 4,
   "metadata": {
    "colab": {
     "base_uri": "https://localhost:8080/"
    },
    "executionInfo": {
     "elapsed": 3,
     "status": "ok",
     "timestamp": 1740439508236,
     "user": {
      "displayName": "David Smiley",
      "userId": "04196970161563073370"
     },
     "user_tz": 300
    },
    "id": "p2LezO0SGoaU",
    "outputId": "f029279a-85f0-40f0-f527-a13c397817aa"
   },
   "outputs": [
    {
     "name": "stdout",
     "output_type": "stream",
     "text": [
      "Original array: [1, 2, 3, 4, 5, 6, 7]\n",
      "Array length (n): 7\n",
      "Step 1 - Normalized k (k %= n): 3\n",
      "Step 2 - Reversed entire array: [7, 6, 5, 4, 3, 2, 1]\n",
      "Step 3 - Reversed first k elements (rev_nums[:k][::-1]): [5, 6, 7]\n",
      "Step 4 - Reversed remaining n-k elements (rev_nums[k:][::-1]): [1, 2, 3, 4]\n",
      "Final rotated array: [5, 6, 7, 1, 2, 3, 4]\n"
     ]
    },
    {
     "data": {
      "text/plain": [
       "[5, 6, 7, 1, 2, 3, 4]"
      ]
     },
     "execution_count": 4,
     "metadata": {},
     "output_type": "execute_result"
    }
   ],
   "source": [
    "def rotate_with_steps(nums, k):\n",
    "    \"\"\"\n",
    "    Rotates an array to the right by k steps with detailed step-by-step guidance.\n",
    "\n",
    "    Parameters:\n",
    "        nums (list): The list of integers to rotate.\n",
    "        k (int): Number of steps to rotate the list.\n",
    "\n",
    "    Returns:\n",
    "        list: The rotated list.\n",
    "\n",
    "    Steps:\n",
    "    1. Normalize k: k %= len(nums)\n",
    "       - This ensures that if k is greater than the length of the array, we only rotate the necessary amount.\n",
    "    2. Reverse the entire array using slicing.\n",
    "       - This flips the array, so the elements that need to be at the front are at the end.\n",
    "    3. Reverse the first k elements of the reversed array.\n",
    "       - This puts the first k elements (originally at the end) into the correct order.\n",
    "    4. Reverse the remaining n - k elements.\n",
    "       - This final reversal places the remaining elements in their proper order.\n",
    "    5. Combine the two reversed segments to form the final rotated array.\n",
    "    \"\"\"\n",
    "    n = [1,2,3,4,5,6,7]\n",
    "    n = len(nums)#n=length of numbers\n",
    "    k = 3\n",
    "    print(\"Original array:\", nums)\n",
    "    print(\"Array length (n):\", n)\n",
    "\n",
    "    # Step 1: Normalize k\n",
    "    k %= n \n",
    "    print(\"Step 1 - Normalized k (k %= n):\", k)\n",
    "\n",
    "    # Step 2: Reverse the entire array\n",
    "    rev_nums = nums[::-1]\n",
    "    print(\"Step 2 - Reversed entire array:\", rev_nums)\n",
    "\n",
    "    # Step 3: Reverse the first k elements of the reversed array\n",
    "    first_k_reversed = rev_nums[:k][::-1]\n",
    "    print(\"Step 3 - Reversed first k elements (rev_nums[:k][::-1]):\", first_k_reversed)\n",
    "\n",
    "    # Step 4: Reverse the remaining n - k elements of the reversed array\n",
    "    remaining_reversed = rev_nums[k:][::-1]\n",
    "    print(\"Step 4 - Reversed remaining n-k elements (rev_nums[k:][::-1]):\", remaining_reversed)\n",
    "\n",
    "    # Combine the two parts to form the final rotated array\n",
    "    rotated_array = first_k_reversed + remaining_reversed\n",
    "    print(\"Final rotated array:\", rotated_array)\n",
    "\n",
    "    return rotated_array\n",
    "\n",
    "# Example usage:\n",
    "nums = [1, 2, 3, 4, 5, 6, 7]\n",
    "k = 3\n",
    "rotate_with_steps(nums, k)"
   ]
  },
  {
   "cell_type": "markdown",
   "metadata": {
    "id": "udFTETgWE1H5"
   },
   "source": [
    "## Stacks in Python"
   ]
  },
  {
   "cell_type": "markdown",
   "metadata": {
    "id": "8SLVA4M6LJzx"
   },
   "source": [
    "### Browser History\n",
    "- **Concept:**  \n",
    "  - Stacks use a Last-In, First-Out order.\n",
    "  - Browser history: \"Back\" button pops the last URL.\n",
    "- **Performance:**  \n",
    "  - Both push and pop operations run in O(1) time."
   ]
  },
  {
   "cell_type": "code",
   "execution_count": null,
   "metadata": {
    "colab": {
     "base_uri": "https://localhost:8080/"
    },
    "executionInfo": {
     "elapsed": 2,
     "status": "ok",
     "timestamp": 1740439508237,
     "user": {
      "displayName": "David Smiley",
      "userId": "04196970161563073370"
     },
     "user_tz": 300
    },
    "id": "ueyVG2yVK9GY",
    "outputId": "632cbf25-159f-4a7e-e4d0-391f0dbca90b"
   },
   "outputs": [
    {
     "name": "stdout",
     "output_type": "stream",
     "text": [
      "['google.com', 'wikipedia.org']\n",
      "['google.com']\n",
      "Going back, visited: No history available\n"
     ]
    }
   ],
   "source": [
    "# Building a \"BrowserHistory\" class that returns the previously stored url\n",
    "class BrowserHistory: #build class and name it browserhistory which will be a simple list\n",
    "    def __init__(self):#only attribute it gets is a list\n",
    "        # Use a list to act as a stack for storing history.\n",
    "        self.history = []#create history attribute\n",
    "\n",
    "    def visit_page(self, url):#create method that takes in information for URL you visit\n",
    "        \"\"\"Simulate visiting a webpage by pushing the URL onto the history stack.\"\"\"#give it a doc string. create stack with a list\n",
    "        self.history.append(url)\n",
    "\n",
    "    def go_back(self):#list uses pop method to pop off the top of the list created if there is something in our history\n",
    "        \"\"\"Simulate the 'Back' button by popping the last visited URL.\"\"\"\n",
    "        if self.history:\n",
    "            return self.history.pop()\n",
    "        return \"No history available\"#if there is nothing in our history\n",
    "\n",
    "    def __repr__(self): # returns list as string when called\n",
    "        return str(self.history)\n",
    "\n",
    "    def __str__(self): # return list as string when print()\n",
    "        return str(self.history)\n",
    "\n",
    "# Demonstration of the stack behavior:\n",
    "history = BrowserHistory()#create object called history that gets stored to our browser history with an empty list in its attributes\n",
    "history.visit_page(\"google.com\")\n",
    "history.visit_page(\"wikipedia.org\")\n",
    "print(history.history) #wikipedia\n",
    "history.go_back()\n",
    "print(history.history) #google\n",
    "history.go_back()\n",
    "print(\"Going back, visited:\", history.go_back())  # Expected: \"wikipedia.org\""
   ]
  },
  {
   "cell_type": "markdown",
   "metadata": {
    "id": "1aAobNytBmJp"
   },
   "source": [
    "### Interview Example: Palindrome Checker\n",
    "**Step-by-Step Explanation**\n",
    "**1. Normalization:**\n",
    "- We convert the input string to lowercase so that comparisons are case-insensitive.\n",
    "\n",
    "**2. Stack Creation and Population:**\n",
    "- We create an empty list stack and push each character of the string onto the stack.\n",
    "\n",
    "- For \"racecar\", the stack becomes `['r', 'a', 'c', 'e', 'c', 'a', 'r']`.\n",
    "\n",
    "**3. Reversing the String:**\n",
    "- We initialize an empty string `reversed_str`. Then, while the stack is not empty, we pop characters from the stack (which removes them in reverse order) and append them to `reversed_str`.\n",
    "- Popping all elements from the stack gives us \"racecar\" for a palindrome or a different string if it's not one.\n",
    "\n",
    "**4. Comparison:**\n",
    "Finally, we compare the normalized original string with the reversed string. If they match, the string is a palindrome.\n"
   ]
  },
  {
   "cell_type": "code",
   "execution_count": 4,
   "metadata": {
    "colab": {
     "base_uri": "https://localhost:8080/"
    },
    "executionInfo": {
     "elapsed": 13,
     "status": "ok",
     "timestamp": 1740439508254,
     "user": {
      "displayName": "David Smiley",
      "userId": "04196970161563073370"
     },
     "user_tz": 300
    },
    "id": "pdCBhO4MMJgj",
    "outputId": "0cdfe4a5-f450-4793-fcf5-b97207f67a0f"
   },
   "outputs": [
    {
     "name": "stdout",
     "output_type": "stream",
     "text": [
      "racecar: True\n",
      "hello: False\n",
      "Madam: True\n"
     ]
    }
   ],
   "source": [
    "def is_palindrome(string_obj):\n",
    "    \"\"\"\n",
    "    Check if a string is a palindrome using a stack.\n",
    "\n",
    "    A palindrome reads the same forwards and backwards.\n",
    "    This function:\n",
    "      1. Normalizes the string (converts to lowercase).\n",
    "      2. Pushes each character onto a stack.\n",
    "      3. Pops characters off the stack to build a reversed string.\n",
    "      4. Compares the reversed string with the original.\n",
    "    \"\"\"\n",
    "    # Normalize the string for uniform comparison\n",
    "    string_obj = string_obj.lower()\n",
    "\n",
    "    # Step 1: Create an empty stack and push each character onto it\n",
    "    stack = []\n",
    "    for char in string_obj:\n",
    "        stack.append(char)\n",
    "\n",
    "    # Step 2: Build the reversed string by popping all elements from the stack\n",
    "    reversed_str = \"\"\n",
    "    while stack:  # While the stack is not empty\n",
    "        reversed_str += stack.pop()  # Pop the last element (no index needed)\n",
    "\n",
    "    # Step 3: Check if the original string is the same as the reversed string\n",
    "    return string_obj == reversed_str\n",
    "\n",
    "# Test cases\n",
    "print(\"racecar:\", is_palindrome(\"racecar\"))   # Expected True\n",
    "print(\"hello:\", is_palindrome(\"hello\"))         # Expected False\n",
    "print(\"Madam:\", is_palindrome(\"Madam\"))         # Expected True"
   ]
  },
  {
   "cell_type": "markdown",
   "metadata": {
    "id": "BT447BPbQI3m"
   },
   "source": [
    "## Queues in Python\n",
    "[See Geek for Geeks on Deque in Python](https://www.geeksforgeeks.org/deque-in-python/)"
   ]
  },
  {
   "cell_type": "markdown",
   "metadata": {
    "id": "3zPA2t26BmHE"
   },
   "source": [
    "### Support Queue Using deque\n",
    "- **Concept:**  \n",
    "  - A queue maintains FIFO order.\n",
    "  - `deque` allows for efficient append and popleft operations (O(1)).\n",
    "- **Interview Tip:**  \n",
    "  - Understand queue applications, such as level-order tree traversals (BFS), which are common in interview questions.\n"
   ]
  },
  {
   "cell_type": "code",
   "execution_count": null,
   "metadata": {
    "colab": {
     "base_uri": "https://localhost:8080/"
    },
    "executionInfo": {
     "elapsed": 32,
     "status": "ok",
     "timestamp": 1740439508287,
     "user": {
      "displayName": "David Smiley",
      "userId": "04196970161563073370"
     },
     "user_tz": 300
    },
    "id": "5L7yZUMelrCJ",
    "outputId": "f81b4578-bb6b-4c48-f88b-f5ac4dd3e208"
   },
   "outputs": [
    {
     "name": "stdout",
     "output_type": "stream",
     "text": [
      "Password reset issue\n"
     ]
    }
   ],
   "source": [
    "from collections import deque\n",
    "\n",
    "class SupportQueue:\n",
    "    def __init__(self):\n",
    "        self.queue = deque()  # Double-ended queue for efficiency\n",
    "\n",
    "    def add_ticket(self, issue):\n",
    "        \"\"\"Adds a new support ticket to the queue.\"\"\"\n",
    "        self.queue.append(issue)\n",
    "\n",
    "    def resolve_ticket(self):\n",
    "        \"\"\"Resolves the oldest ticket (first in, first out).\"\"\"\n",
    "        if self.queue:\n",
    "            return self.queue.popleft()\n",
    "        return \"No tickets in queue\"\n",
    "\n",
    "# Timing the operations\n",
    "tickets = SupportQueue() #create the class first\n",
    "tickets.add_ticket(\"Password reset issue\") \n",
    "tickets.add_ticket(\"Cannot log in\")\n",
    "print(tickets.resolve_ticket())  # Outputs: Password reset issue"
   ]
  },
  {
   "cell_type": "markdown",
   "metadata": {
    "id": "ne5e8C0uRGOt"
   },
   "source": [
    "### Interview Example: Scheduling Tasks"
   ]
  },
  {
   "cell_type": "markdown",
   "metadata": {
    "id": "GL24lgGfRg9f"
   },
   "source": [
    "**Step-by-Step Explanation**\n",
    "\n",
    "**1.   Queue Initialization:**\n",
    "We create a queue using deque(tasks), which organizes our tasks in the order they were added.\n",
    "\n",
    "\n",
    "**2.   Processing Loop:**\n",
    "We repeatedly remove the task at the front of the queue using `popleft()` (simulating a FIFO order) and then print it out.\n",
    "\n",
    "**3. Final Output:**\n",
    "The tasks are processed in the exact order they arrived, demonstrating a basic scheduling scenario with a queue."
   ]
  },
  {
   "cell_type": "code",
   "execution_count": 6,
   "metadata": {
    "colab": {
     "base_uri": "https://localhost:8080/"
    },
    "executionInfo": {
     "elapsed": 31,
     "status": "ok",
     "timestamp": 1740439508319,
     "user": {
      "displayName": "David Smiley",
      "userId": "04196970161563073370"
     },
     "user_tz": 300
    },
    "id": "GJiXVrMMRw-G",
    "outputId": "75752a5f-209b-441b-8239-795dfac3b57a"
   },
   "outputs": [
    {
     "name": "stdout",
     "output_type": "stream",
     "text": [
      "Processing: Task 1: Check email\n",
      "Processing: Task 2: Attend meeting\n",
      "Processing: Task 3: Write report\n"
     ]
    }
   ],
   "source": [
    "from collections import deque\n",
    "\n",
    "def process_tasks(tasks):\n",
    "    \"\"\"\n",
    "    Processes tasks in a First-In-First-Out (FIFO) manner using a queue.\n",
    "\n",
    "    Interview Connection:\n",
    "    Queue-based problems often show up in scheduling questions where tasks are processed\n",
    "    in the order they arrive.\n",
    "\n",
    "    Steps:\n",
    "    1. Initialize a queue with the list of tasks.\n",
    "    2. While the queue is not empty, remove the task at the front.\n",
    "    3. Process (print) each task.\n",
    "    \"\"\"\n",
    "    # Step 1: Initialize the queue with the list of tasks.\n",
    "    queue = deque(tasks)\n",
    "\n",
    "    # Step 2: Process tasks until the queue is empty.\n",
    "    while queue:\n",
    "        # Remove and get the task at the front of the queue.\n",
    "        current_task = queue.popleft()\n",
    "        # Step 3: Process the task.\n",
    "        print(\"Processing:\", current_task)\n",
    "\n",
    "# Example usage:\n",
    "tasks = [\"Task 1: Check email\", \"Task 2: Attend meeting\", \"Task 3: Write report\"]\n",
    "process_tasks(tasks)"
   ]
  }
 ],
 "metadata": {
  "colab": {
   "authorship_tag": "ABX9TyMSj2sfU0VRsydCXSyaQEu1",
   "provenance": [],
   "toc_visible": true
  },
  "kernelspec": {
   "display_name": "base",
   "language": "python",
   "name": "python3"
  },
  "language_info": {
   "codemirror_mode": {
    "name": "ipython",
    "version": 3
   },
   "file_extension": ".py",
   "mimetype": "text/x-python",
   "name": "python",
   "nbconvert_exporter": "python",
   "pygments_lexer": "ipython3",
   "version": "3.12.7"
  }
 },
 "nbformat": 4,
 "nbformat_minor": 0
}
